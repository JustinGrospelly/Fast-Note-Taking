{
 "cells": [
  {
   "cell_type": "markdown",
   "metadata": {},
   "source": [
    "# Importing librérie"
   ]
  },
  {
   "cell_type": "code",
   "execution_count": 1,
   "metadata": {},
   "outputs": [],
   "source": [
    "from docx import Document\n",
    "import re"
   ]
  },
  {
   "cell_type": "markdown",
   "metadata": {},
   "source": [
    "# funciton definition"
   ]
  },
  {
   "cell_type": "markdown",
   "metadata": {},
   "source": [
    "## text editing fonction definition"
   ]
  },
  {
   "cell_type": "code",
   "execution_count": 18,
   "metadata": {},
   "outputs": [],
   "source": [
    "def add_capital (text):\n",
    "    return text[0].upper() + text[1:]"
   ]
  },
  {
   "cell_type": "code",
   "execution_count": 19,
   "metadata": {},
   "outputs": [],
   "source": [
    "def dico_add_exeption(dico_base):\n",
    "    \"\"\"Input : dico Output dico\n",
    "    Add exeption to dico (Maj, \".\", \",\")\"\"\"\n",
    "    dico_return_not_capital = {}\n",
    "    dico_return = {}\n",
    "    for key, value in dico_base.items() :\n",
    "        # Add base value\n",
    "        dico_return_not_capital[key] = value\n",
    "\n",
    "        # Add base value + \".\"\n",
    "        dico_return_not_capital[(key + \".\")] = (value + \".\")\n",
    "\n",
    "        # Add base value + \",\"\n",
    "        dico_return_not_capital[(key + \",\")] = (value + \",\")\n",
    "\n",
    "    for key, value in dico_return_not_capital.items() :\n",
    "        dico_return[add_capital(key)] = add_capital(value)\n",
    "\n",
    "    for key, value in dico_return_not_capital.items() :\n",
    "        dico_return[key] = value\n",
    "    \n",
    "    return dico_return"
   ]
  },
  {
   "cell_type": "code",
   "execution_count": 20,
   "metadata": {},
   "outputs": [],
   "source": [
    "def paragraph_to_words(text):\n",
    "    \"\"\"Input : str Output : list\n",
    "    transform text into words lists\"\"\"\n",
    "    return text.split(\" \")"
   ]
  },
  {
   "cell_type": "code",
   "execution_count": 21,
   "metadata": {},
   "outputs": [],
   "source": [
    "def replace_words(words_list, replace_words_dict):\n",
    "    \"\"\"Input : list, dict Output : list\n",
    "    Check if a word corresponds to a short words of the dixionaire if yes it replace it by the word of the dixionaries \"\"\"\n",
    "    return_words_list = []\n",
    "    for words in words_list :\n",
    "        if words in replace_words_dict :\n",
    "            return_words_list.append(replace_words_dict[words])\n",
    "        else :\n",
    "            return_words_list.append(words)\n",
    "    return return_words_list"
   ]
  },
  {
   "cell_type": "code",
   "execution_count": 22,
   "metadata": {},
   "outputs": [],
   "source": [
    "def list_to_str(list):\n",
    "    \"\"\"Input list Output : str\n",
    "    Concatenates the list into a str and adds a space to the list element\"\"\"\n",
    "    return str(\" \".join(list))"
   ]
  },
  {
   "cell_type": "code",
   "execution_count": 23,
   "metadata": {},
   "outputs": [],
   "source": [
    "def replace_sorten_words_with_words(text, replace_words_dict):\n",
    "    \"\"\"Input : str, dict Output : str\n",
    "    Repace all sorten words with words\"\"\"\n",
    "    return list_to_str(replace_words(paragraph_to_words(text),dico_add_exeption(replace_words_dict)))"
   ]
  },
  {
   "cell_type": "markdown",
   "metadata": {},
   "source": [
    "## fonction definition to modify the file"
   ]
  },
  {
   "cell_type": "code",
   "execution_count": null,
   "metadata": {},
   "outputs": [],
   "source": [
    "def read_file(file_path):\n",
    "    "
   ]
  },
  {
   "cell_type": "markdown",
   "metadata": {},
   "source": [
    "# **MAIN**"
   ]
  },
  {
   "cell_type": "code",
   "execution_count": 26,
   "metadata": {},
   "outputs": [
    {
     "name": "stdout",
     "output_type": "stream",
     "text": [
      "Salut, coment vous aller ? et coucou. toi !\n"
     ]
    }
   ],
   "source": [
    "print(replace_sorten_words_with_words(\"Slt, coment vous aller ? et cc. toi !\", {\"slt\": \"salut\", \"cc\": \"coucou\"}))"
   ]
  }
 ],
 "metadata": {
  "kernelspec": {
   "display_name": "Python 3",
   "language": "python",
   "name": "python3"
  },
  "language_info": {
   "codemirror_mode": {
    "name": "ipython",
    "version": 3
   },
   "file_extension": ".py",
   "mimetype": "text/x-python",
   "name": "python",
   "nbconvert_exporter": "python",
   "pygments_lexer": "ipython3",
   "version": "3.10.7"
  }
 },
 "nbformat": 4,
 "nbformat_minor": 2
}
