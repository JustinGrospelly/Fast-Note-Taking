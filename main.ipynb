{
 "cells": [
  {
   "cell_type": "markdown",
   "metadata": {},
   "source": [
    "# Importing librérie"
   ]
  },
  {
   "cell_type": "code",
   "execution_count": 2,
   "metadata": {},
   "outputs": [],
   "source": [
    "from docx import Document\n",
    "import re\n",
    "import tkinter as tk"
   ]
  },
  {
   "cell_type": "markdown",
   "metadata": {},
   "source": [
    "# funciton definition"
   ]
  },
  {
   "cell_type": "markdown",
   "metadata": {},
   "source": [
    "## text editing fonction definition"
   ]
  },
  {
   "cell_type": "code",
   "execution_count": 3,
   "metadata": {},
   "outputs": [],
   "source": [
    "def add_capital (text):\n",
    "    return text[0].upper() + text[1:]"
   ]
  },
  {
   "cell_type": "code",
   "execution_count": 4,
   "metadata": {},
   "outputs": [],
   "source": [
    "def dico_add_exeption(dico_base):\n",
    "    \"\"\"Input : dico Output dico\n",
    "    Add exeption to dico (Maj, \".\", \",\")\"\"\"\n",
    "    dico_return_not_capital = {}\n",
    "    dico_return = {}\n",
    "    for key, value in dico_base.items() :\n",
    "        # Add base value\n",
    "        dico_return_not_capital[key] = value\n",
    "\n",
    "        # Add base value + \".\"\n",
    "        dico_return_not_capital[(key + \".\")] = (value + \".\")\n",
    "\n",
    "        # Add base value + \",\"\n",
    "        dico_return_not_capital[(key + \",\")] = (value + \",\")\n",
    "\n",
    "    for key, value in dico_return_not_capital.items() :\n",
    "        dico_return[add_capital(key)] = add_capital(value)\n",
    "\n",
    "    for key, value in dico_return_not_capital.items() :\n",
    "        dico_return[key] = value\n",
    "    \n",
    "    return dico_return"
   ]
  },
  {
   "cell_type": "code",
   "execution_count": 5,
   "metadata": {},
   "outputs": [],
   "source": [
    "def paragraph_to_words(text):\n",
    "    \"\"\"Input : str Output : list\n",
    "    transform text into words lists\"\"\"\n",
    "    return text.split(\" \")"
   ]
  },
  {
   "cell_type": "code",
   "execution_count": 6,
   "metadata": {},
   "outputs": [],
   "source": [
    "def replace_words(words_list, replace_words_dict):\n",
    "    \"\"\"Input : list, dict Output : list\n",
    "    Check if a word corresponds to a short words of the dixionaire if yes it replace it by the word of the dixionaries \"\"\"\n",
    "    return_words_list = []\n",
    "    for words in words_list :\n",
    "        if words in replace_words_dict :\n",
    "            return_words_list.append(replace_words_dict[words])\n",
    "        else :\n",
    "            return_words_list.append(words)\n",
    "    return return_words_list"
   ]
  },
  {
   "cell_type": "code",
   "execution_count": 7,
   "metadata": {},
   "outputs": [],
   "source": [
    "def list_to_str(list):\n",
    "    \"\"\"Input list Output : str\n",
    "    Concatenates the list into a str and adds a space to the list element\"\"\"\n",
    "    return str(\" \".join(list))"
   ]
  },
  {
   "cell_type": "code",
   "execution_count": 8,
   "metadata": {},
   "outputs": [],
   "source": [
    "def replace_sorten_words_with_words(text, replace_words_dict):\n",
    "    \"\"\"Input : str, dict Output : str\n",
    "    Repace all sorten words with words\"\"\"\n",
    "    return list_to_str(replace_words(paragraph_to_words(text),dico_add_exeption(replace_words_dict)))"
   ]
  },
  {
   "cell_type": "markdown",
   "metadata": {},
   "source": [
    "## fonction definition to modify the file"
   ]
  },
  {
   "cell_type": "code",
   "execution_count": 9,
   "metadata": {},
   "outputs": [],
   "source": [
    "def edit_file(file_path, dico_words_replace):\n",
    "    \"\"\"Input : str, dict Output : None* (*Output the number of changes in the file)\n",
    "    Edit file, replace short words with complete words, keep a formatting\"\"\"\n",
    "    number_changes = 0\n",
    "    try :\n",
    "        doc = Document(file_path)\n",
    "\n",
    "        for para in doc.paragraphs:\n",
    "            for run in para.runs:\n",
    "                for key, value in dico_words_replace.items() :\n",
    "                    if key in run.text :\n",
    "                            run.text = run.text.replace(key, value)\n",
    "                            number_changes += 1\n",
    "        \n",
    "        doc.save(file_path)\n",
    "\n",
    "        return f\"{number_changes} Words modified\"\n",
    "    except Exception as e :\n",
    "         return(e)"
   ]
  },
  {
   "cell_type": "markdown",
   "metadata": {},
   "source": [
    "## fonction definition Tkinter "
   ]
  },
  {
   "cell_type": "code",
   "execution_count": 10,
   "metadata": {},
   "outputs": [],
   "source": [
    "def get_text():\n",
    "    \"\"\"Input : None Output : str\n",
    "    Add a button to retrieve text from the text box\"\"\"\n",
    "    content = text_area.get(\"1.0\", tk.END)\n",
    "    print(content)"
   ]
  },
  {
   "cell_type": "code",
   "execution_count": 20,
   "metadata": {},
   "outputs": [],
   "source": [
    "def repalce_text(replace_words_dict):\n",
    "    \"\"\"Input : None Output : str\n",
    "    Add a button to retrieve text from the text box\"\"\"\n",
    "    content = text_area.get(\"1.0\", tk.END)\n",
    "    new_text = replace_sorten_words_with_words(content, replace_words_dict)\n",
    "    text_area.set(tk.END, new_text) # Swith For replace text no add text ok ?\n",
    "    print(f\"{content} replace by {new_text}\")"
   ]
  },
  {
   "cell_type": "code",
   "execution_count": 21,
   "metadata": {},
   "outputs": [
    {
     "ename": "AttributeError",
     "evalue": "'Text' object has no attribute 'set'",
     "output_type": "error",
     "traceback": [
      "\u001b[1;31m---------------------------------------------------------------------------\u001b[0m",
      "\u001b[1;31mAttributeError\u001b[0m                            Traceback (most recent call last)",
      "Cell \u001b[1;32mIn[21], line 16\u001b[0m\n\u001b[0;32m     13\u001b[0m \u001b[38;5;66;03m# added default text\u001b[39;00m\n\u001b[0;32m     14\u001b[0m text_area\u001b[38;5;241m.\u001b[39minsert(tk\u001b[38;5;241m.\u001b[39mEND, \u001b[38;5;124m\"\u001b[39m\u001b[38;5;124mslt, comment tu va ? et cc toi !\u001b[39m\u001b[38;5;124m\"\u001b[39m)\n\u001b[1;32m---> 16\u001b[0m button \u001b[38;5;241m=\u001b[39m tk\u001b[38;5;241m.\u001b[39mButton(window, text\u001b[38;5;241m=\u001b[39m\u001b[38;5;124m\"\u001b[39m\u001b[38;5;124mAfficher le texte\u001b[39m\u001b[38;5;124m\"\u001b[39m, command\u001b[38;5;241m=\u001b[39m\u001b[43mrepalce_text\u001b[49m\u001b[43m(\u001b[49m\u001b[43m{\u001b[49m\u001b[38;5;124;43m\"\u001b[39;49m\u001b[38;5;124;43mslt\u001b[39;49m\u001b[38;5;124;43m\"\u001b[39;49m\u001b[43m:\u001b[49m\u001b[43m \u001b[49m\u001b[38;5;124;43m\"\u001b[39;49m\u001b[38;5;124;43msalut\u001b[39;49m\u001b[38;5;124;43m\"\u001b[39;49m\u001b[43m,\u001b[49m\u001b[43m \u001b[49m\u001b[38;5;124;43m\"\u001b[39;49m\u001b[38;5;124;43mcc\u001b[39;49m\u001b[38;5;124;43m\"\u001b[39;49m\u001b[43m:\u001b[49m\u001b[43m \u001b[49m\u001b[38;5;124;43m\"\u001b[39;49m\u001b[38;5;124;43mcoucou\u001b[39;49m\u001b[38;5;124;43m\"\u001b[39;49m\u001b[43m}\u001b[49m\u001b[43m)\u001b[49m)\n\u001b[0;32m     17\u001b[0m button\u001b[38;5;241m.\u001b[39mpack(pady\u001b[38;5;241m=\u001b[39m\u001b[38;5;241m10\u001b[39m)\n\u001b[0;32m     19\u001b[0m window\u001b[38;5;241m.\u001b[39mmainloop()\n",
      "Cell \u001b[1;32mIn[20], line 6\u001b[0m, in \u001b[0;36mrepalce_text\u001b[1;34m(replace_words_dict)\u001b[0m\n\u001b[0;32m      4\u001b[0m content \u001b[38;5;241m=\u001b[39m text_area\u001b[38;5;241m.\u001b[39mget(\u001b[38;5;124m\"\u001b[39m\u001b[38;5;124m1.0\u001b[39m\u001b[38;5;124m\"\u001b[39m, tk\u001b[38;5;241m.\u001b[39mEND)\n\u001b[0;32m      5\u001b[0m new_text \u001b[38;5;241m=\u001b[39m replace_sorten_words_with_words(content, replace_words_dict)\n\u001b[1;32m----> 6\u001b[0m \u001b[43mtext_area\u001b[49m\u001b[38;5;241;43m.\u001b[39;49m\u001b[43mset\u001b[49m(tk\u001b[38;5;241m.\u001b[39mEND, new_text)\n\u001b[0;32m      7\u001b[0m \u001b[38;5;28mprint\u001b[39m(\u001b[38;5;124mf\u001b[39m\u001b[38;5;124m\"\u001b[39m\u001b[38;5;132;01m{\u001b[39;00mcontent\u001b[38;5;132;01m}\u001b[39;00m\u001b[38;5;124m replace by \u001b[39m\u001b[38;5;132;01m{\u001b[39;00mnew_text\u001b[38;5;132;01m}\u001b[39;00m\u001b[38;5;124m\"\u001b[39m)\n",
      "\u001b[1;31mAttributeError\u001b[0m: 'Text' object has no attribute 'set'"
     ]
    }
   ],
   "source": [
    "# Le passée dans le main\n",
    "\n",
    "# Start tkinter\n",
    "window = tk.Tk()\n",
    "window.title(\"Fast-Note-Taking\")\n",
    "\n",
    "window.geometry ( '300x400' )\n",
    "\n",
    "# Creating a text zone\n",
    "text_area = tk.Text(window, height=10, width=40)\n",
    "text_area.pack(pady=10)\n",
    "\n",
    "# added default text\n",
    "text_area.insert(tk.END, \"slt, comment tu va ? et cc toi !\")\n",
    "\n",
    "button = tk.Button(window, text=\"Replace text\", command=repalce_text({\"slt\": \"salut\", \"cc\": \"coucou\"}))\n",
    "button.pack(pady=10)\n",
    "\n",
    "window.mainloop()"
   ]
  },
  {
   "cell_type": "markdown",
   "metadata": {},
   "source": [
    "# **MAIN**"
   ]
  },
  {
   "cell_type": "code",
   "execution_count": 13,
   "metadata": {},
   "outputs": [
    {
     "name": "stdout",
     "output_type": "stream",
     "text": [
      "0 Words modified\n"
     ]
    }
   ],
   "source": [
    "print(edit_file(\"test.docx\", dico_add_exeption({\"slt\": \"salut\", \"cc\": \"coucou\"})))"
   ]
  },
  {
   "cell_type": "markdown",
   "metadata": {},
   "source": [
    "## Test"
   ]
  },
  {
   "cell_type": "code",
   "execution_count": null,
   "metadata": {},
   "outputs": [],
   "source": []
  }
 ],
 "metadata": {
  "kernelspec": {
   "display_name": "Python 3",
   "language": "python",
   "name": "python3"
  },
  "language_info": {
   "codemirror_mode": {
    "name": "ipython",
    "version": 3
   },
   "file_extension": ".py",
   "mimetype": "text/x-python",
   "name": "python",
   "nbconvert_exporter": "python",
   "pygments_lexer": "ipython3",
   "version": "3.10.7"
  }
 },
 "nbformat": 4,
 "nbformat_minor": 2
}
