{
 "cells": [
  {
   "cell_type": "markdown",
   "metadata": {},
   "source": [
    "# Importing librérie"
   ]
  },
  {
   "cell_type": "code",
   "execution_count": 1,
   "metadata": {},
   "outputs": [],
   "source": [
    "from docx import Document\n",
    "import re\n",
    "import tkinter as tk"
   ]
  },
  {
   "cell_type": "markdown",
   "metadata": {},
   "source": [
    "# funciton definition"
   ]
  },
  {
   "cell_type": "markdown",
   "metadata": {},
   "source": [
    "## text editing fonction definition"
   ]
  },
  {
   "cell_type": "code",
   "execution_count": 23,
   "metadata": {},
   "outputs": [],
   "source": [
    "def add_capital (text):\n",
    "    return text[0].upper() + text[1:]"
   ]
  },
  {
   "cell_type": "code",
   "execution_count": 24,
   "metadata": {},
   "outputs": [],
   "source": [
    "def dico_add_exeption(dico_base):\n",
    "    \"\"\"Input : dico Output dico\n",
    "    Add exeption to dico (Maj, \".\", \",\")\"\"\"\n",
    "    dico_return_not_capital = {}\n",
    "    dico_return = {}\n",
    "    for key, value in dico_base.items() :\n",
    "        # Add base value\n",
    "        dico_return_not_capital[key] = value\n",
    "\n",
    "        # Add base value + \".\"\n",
    "        dico_return_not_capital[(key + \".\")] = (value + \".\")\n",
    "\n",
    "        # Add base value + \",\"\n",
    "        dico_return_not_capital[(key + \",\")] = (value + \",\")\n",
    "\n",
    "    for key, value in dico_return_not_capital.items() :\n",
    "        dico_return[add_capital(key)] = add_capital(value)\n",
    "\n",
    "    for key, value in dico_return_not_capital.items() :\n",
    "        dico_return[key] = value\n",
    "    \n",
    "    return dico_return"
   ]
  },
  {
   "cell_type": "code",
   "execution_count": 25,
   "metadata": {},
   "outputs": [],
   "source": [
    "def paragraph_to_words(text):\n",
    "    \"\"\"Input : str Output : list\n",
    "    transform text into words lists\"\"\"\n",
    "    return text.split(\" \")"
   ]
  },
  {
   "cell_type": "code",
   "execution_count": 26,
   "metadata": {},
   "outputs": [],
   "source": [
    "def replace_words(words_list, replace_words_dict):\n",
    "    \"\"\"Input : list, dict Output : list\n",
    "    Check if a word corresponds to a short words of the dixionaire if yes it replace it by the word of the dixionaries \"\"\"\n",
    "    return_words_list = []\n",
    "    for words in words_list :\n",
    "        if words in replace_words_dict :\n",
    "            return_words_list.append(replace_words_dict[words])\n",
    "        else :\n",
    "            return_words_list.append(words)\n",
    "    return return_words_list"
   ]
  },
  {
   "cell_type": "code",
   "execution_count": 27,
   "metadata": {},
   "outputs": [],
   "source": [
    "def list_to_str(list):\n",
    "    \"\"\"Input list Output : str\n",
    "    Concatenates the list into a str and adds a space to the list element\"\"\"\n",
    "    return str(\" \".join(list))"
   ]
  },
  {
   "cell_type": "code",
   "execution_count": 28,
   "metadata": {},
   "outputs": [],
   "source": [
    "def replace_sorten_words_with_words(text, replace_words_dict):\n",
    "    \"\"\"Input : str, dict Output : str\n",
    "    Repace all sorten words with words\"\"\"\n",
    "    return list_to_str(replace_words(paragraph_to_words(text),dico_add_exeption(replace_words_dict)))"
   ]
  },
  {
   "cell_type": "markdown",
   "metadata": {},
   "source": [
    "## fonction definition to modify the file"
   ]
  },
  {
   "cell_type": "code",
   "execution_count": 37,
   "metadata": {},
   "outputs": [],
   "source": [
    "def edit_file(file_path, dico_words_replace):\n",
    "    \"\"\"Input : str, dict Output : None* (*Output the number of changes in the file)\n",
    "    Edit file, replace short words with complete words, keep a formatting\"\"\"\n",
    "    number_changes = 0\n",
    "    try :\n",
    "        doc = Document(file_path)\n",
    "\n",
    "        for para in doc.paragraphs:\n",
    "            for run in para.runs:\n",
    "                for key, value in dico_words_replace.items() :\n",
    "                    if key in run.text :\n",
    "                            run.text = run.text.replace(key, value)\n",
    "                            number_changes += 1\n",
    "        \n",
    "        doc.save(file_path)\n",
    "\n",
    "        return number_changes\n",
    "    except Exception as e :\n",
    "         return(e)"
   ]
  },
  {
   "cell_type": "markdown",
   "metadata": {},
   "source": [
    "## fonction definition Tkinter "
   ]
  },
  {
   "cell_type": "code",
   "execution_count": 12,
   "metadata": {},
   "outputs": [],
   "source": [
    "# Start tkinter\n",
    "window = tk.Tk()\n",
    "window.title(\"Fast-Note-Taking\")\n",
    "\n",
    "window.geometry ( '300x400' )\n",
    "\n",
    "# Creating a text zone\n",
    "text_area = tk.Text(window, height=10, width=40)\n",
    "text_area.pack(pady=10)\n",
    "\n",
    "# added default text\n",
    "text_area.insert(tk.END, \"Ceci est un texte par défaut.\")\n",
    "\n",
    "# Add a button to retrieve text from the text box\n",
    "def get_text():\n",
    "    content = text_area.get(\"1.0\", tk.END)\n",
    "    print(content)\n",
    "\n",
    "button = tk.Button(window, text=\"Afficher le texte\", command=get_text)\n",
    "button.pack(pady=10)\n",
    "\n",
    "window.mainloop()"
   ]
  },
  {
   "cell_type": "markdown",
   "metadata": {},
   "source": [
    "# **MAIN**"
   ]
  },
  {
   "cell_type": "code",
   "execution_count": 40,
   "metadata": {},
   "outputs": [
    {
     "name": "stdout",
     "output_type": "stream",
     "text": [
      "2\n"
     ]
    }
   ],
   "source": [
    "print(edit_file(\"test.docx\", dico_add_exeption({\"slt\": \"salut\", \"cc\": \"coucou\"})))"
   ]
  },
  {
   "cell_type": "markdown",
   "metadata": {},
   "source": [
    "## Test"
   ]
  },
  {
   "cell_type": "code",
   "execution_count": 41,
   "metadata": {},
   "outputs": [
    {
     "name": "stdout",
     "output_type": "stream",
     "text": [
      "Salut, coment vous aller ? et coucou. toi !\n"
     ]
    }
   ],
   "source": [
    "print(replace_sorten_words_with_words(\"Slt, coment vous aller ? et cc. toi !\", {\"slt\": \"salut\", \"cc\": \"coucou\"}))"
   ]
  }
 ],
 "metadata": {
  "kernelspec": {
   "display_name": "Python 3",
   "language": "python",
   "name": "python3"
  },
  "language_info": {
   "codemirror_mode": {
    "name": "ipython",
    "version": 3
   },
   "file_extension": ".py",
   "mimetype": "text/x-python",
   "name": "python",
   "nbconvert_exporter": "python",
   "pygments_lexer": "ipython3",
   "version": "3.10.7"
  }
 },
 "nbformat": 4,
 "nbformat_minor": 2
}
