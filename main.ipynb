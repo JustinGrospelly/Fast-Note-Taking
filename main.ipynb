{
 "cells": [
  {
   "cell_type": "markdown",
   "metadata": {},
   "source": [
    "# Importing librérie"
   ]
  },
  {
   "cell_type": "code",
   "execution_count": 2,
   "metadata": {},
   "outputs": [],
   "source": [
    "from docx import Document\n",
    "import re"
   ]
  },
  {
   "cell_type": "markdown",
   "metadata": {},
   "source": [
    "# funciton definition"
   ]
  },
  {
   "cell_type": "code",
   "execution_count": 3,
   "metadata": {},
   "outputs": [],
   "source": [
    "def remove_punctuation_characters(text):\n",
    "    \"\"\"Input : str Output : str\n",
    "    remove all punctuation characters and replace by space\"\"\"\n",
    "    return re.sub(r\"[,\\?;.:/!*'()\\[\\]{}\\\"']\", \" \", text)"
   ]
  },
  {
   "cell_type": "code",
   "execution_count": 4,
   "metadata": {},
   "outputs": [],
   "source": [
    "def paragraph_to_words(text):\n",
    "    \"\"\"Input : str Output : list\n",
    "    transform text into words lists\"\"\"\n",
    "    return text.split(\" \")"
   ]
  },
  {
   "cell_type": "code",
   "execution_count": 5,
   "metadata": {},
   "outputs": [],
   "source": [
    "def replace_words(words_list, replace_words_dict):\n",
    "    \"\"\"Input : list, dict Output : list\n",
    "    Check if a word corresponds to a short words of the dixionaire if yes it replace it by the word of the dixionaries \"\"\"\n",
    "    return_words_list = []\n",
    "    for words in words_list :\n",
    "        if words in replace_words_dict :\n",
    "            return_words_list.append(replace_words_dict[words])\n",
    "        else :\n",
    "            return_words_list.append(words)\n",
    "    return return_words_list"
   ]
  },
  {
   "cell_type": "code",
   "execution_count": 11,
   "metadata": {},
   "outputs": [],
   "source": [
    "def list_to_str(list):\n",
    "    \"\"\"Input list Output : str\n",
    "    Concatenates the list into a str and adds a space to the list element\"\"\"\n",
    "    return str(\" \".join(list))"
   ]
  },
  {
   "cell_type": "code",
   "execution_count": 12,
   "metadata": {},
   "outputs": [],
   "source": [
    "def replace_sorten_words_with_words(text, replace_words_dict):\n",
    "    \"\"\"Input : str, dict Output : str\n",
    "    Repace all sorten words with words\"\"\"\n",
    "    return list_to_str(replace_words(paragraph_to_words(remove_punctuation_characters(text)),replace_words_dict))"
   ]
  },
  {
   "cell_type": "markdown",
   "metadata": {},
   "source": [
    "# **MAIN**"
   ]
  },
  {
   "cell_type": "code",
   "execution_count": 13,
   "metadata": {},
   "outputs": [
    {
     "name": "stdout",
     "output_type": "stream",
     "text": [
      "salut coment vous aller   et coucou toi  \n"
     ]
    }
   ],
   "source": [
    "print(replace_sorten_words_with_words(\"slt coment vous aller ? et cc toi !\", {\"slt\": \"salut\", \"cc\": \"coucou\"}))"
   ]
  }
 ],
 "metadata": {
  "kernelspec": {
   "display_name": "Python 3",
   "language": "python",
   "name": "python3"
  },
  "language_info": {
   "codemirror_mode": {
    "name": "ipython",
    "version": 3
   },
   "file_extension": ".py",
   "mimetype": "text/x-python",
   "name": "python",
   "nbconvert_exporter": "python",
   "pygments_lexer": "ipython3",
   "version": "3.10.7"
  }
 },
 "nbformat": 4,
 "nbformat_minor": 2
}
